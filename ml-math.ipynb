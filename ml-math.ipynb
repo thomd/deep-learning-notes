{
 "cells": [
  {
   "cell_type": "markdown",
   "metadata": {},
   "source": [
    "# Activation Functions\n",
    "\n",
    "## Softmax\n",
    "\n",
    "Softmax is an Activation Functions. Softmax is a generalization of Sigmoind for $n = 2$\n",
    "\n",
    "<div class=\"alert alert-block alert-warning\">TODO: https://www.quora.com/Why-is-it-better-to-use-Softmax-function-than-sigmoid-function</div>"
   ]
  },
  {
   "cell_type": "markdown",
   "metadata": {},
   "source": [
    "## Sigmoid\n",
    "\n",
    "Sigmoid is an Activation Function:\n",
    "\n",
    "$$\\sigma(x) = \\frac{1}{1 + e^{-x}}$$\n",
    "\n",
    "The **derivative** of Sigmoid is:\n",
    "\n",
    "$$\\begin{align*}\n",
    "\\sigma'(x) = \\frac{\\mathrm{d}}{\\mathrm{d}x} \\sigma(x) &= \\frac{\\mathrm{d}}{\\mathrm{d}x} \\Big(\\frac{1}{1 + e^{-x}} \\Big)^{-1}\\\\ \\\\\n",
    "&= -(1 + e^{-x})^{-2} \\; (-e^{-x})\\\\ \\\\\n",
    "&= \\frac{e^{-x}}{(1+e^{-x})^2}\\\\ \\\\\n",
    "&= \\frac{1}{1+e^{-x}} \\cdot \\frac{e^{-x}}{1+e^{-x}}\\\\ \\\\\n",
    "&= \\frac{1}{1+e^{-x}} \\cdot \\frac{1 + e^{-x} - 1}{1+e^{-x}}\\\\ \\\\\n",
    "&= \\frac{1}{1+e^{-x}} \\cdot \\bigg( \\frac{1 + e^{-x}}{1+e^{-x}} - \\frac{1}{1+e^{-x}} \\bigg)\\\\ \\\\\n",
    "&= \\frac{1}{1+e^{-x}} \\cdot \\bigg( 1 - \\frac{1}{1+e^{-x}} \\bigg)\\\\ \\\\\n",
    "&= \\sigma(x) \\cdot \\big( 1 - \\sigma(x) \\big)\\\\\n",
    "\\end{align*}$$ "
   ]
  },
  {
   "cell_type": "markdown",
   "metadata": {},
   "source": [
    "# Loss Functions\n",
    "\n",
    "The network needs to make predictions as close as possible to the real values. To measure this, we use a metric of how wrong the predictions are, the **error**. \n",
    "\n",
    "## Cross Entropy Loss\n",
    "\n",
    "Cross Entropy is used in ML as a Loss Function. Multiclass Cross Entropy is a generalization for Two Class Cross Entropy\n",
    "\n",
    "<div class=\"alert alert-block alert-warning\">TODO</divY"
   ]
  },
  {
   "cell_type": "markdown",
   "metadata": {},
   "source": [
    "## Sum of Squared Errors (SSE)\n",
    "\n",
    "A common metric is the sum of the squared errors. The **SSE** is a good choice for a few reasons, for example compared to just using $E=|y-\\hat{y}|$: the square ensures the **error is always positive** and **larger errors are penalized** more than smaller errors. Also, it makes the **math nice**.\n",
    "\n",
    "$$E = \\frac{1}{2} \\sum_\\mu \\sum_j [y_j^\\mu - \\hat{y}_j^\\mu]^2$$\n",
    "\n",
    "with the **prediction** \n",
    "\n",
    "$$\\hat{y}_j^\\mu = f \\big(\\sum_i w_{ij} x_i^\\mu \\big)$$\n",
    "\n",
    "andthe **real value** $y$, the number of **output units** $j$ and the number of **data points** $\\mu$.\n",
    "\n",
    "Our goal is to find weights $w_{ij}$ that minimize the squared error $E$. To do this with a neural network we typically use **gradient descent**."
   ]
  },
  {
   "cell_type": "markdown",
   "metadata": {},
   "source": [
    "## Mean Squared Errors (MSE)\n",
    "\n",
    "The mean squared error is the SSE divided by the degrees of freedom for the errors for the model.\n",
    "\n",
    "<div class=\"alert alert-block alert-warning\">TODO</div>"
   ]
  },
  {
   "cell_type": "markdown",
   "metadata": {},
   "source": [
    "# Gradient Descent\n",
    "\n",
    "## Momentum\n",
    "\n",
    "[Momentum](https://distill.pub/2017/momentum/) is a method to **avoid local minimums** and miss the lowest possible minimum."
   ]
  },
  {
   "cell_type": "code",
   "execution_count": null,
   "metadata": {},
   "outputs": [],
   "source": []
  }
 ],
 "metadata": {
  "kernelspec": {
   "display_name": "Python 3",
   "language": "python",
   "name": "python3"
  },
  "language_info": {
   "codemirror_mode": {
    "name": "ipython",
    "version": 3
   },
   "file_extension": ".py",
   "mimetype": "text/x-python",
   "name": "python",
   "nbconvert_exporter": "python",
   "pygments_lexer": "ipython3",
   "version": "3.7.7"
  }
 },
 "nbformat": 4,
 "nbformat_minor": 4
}
