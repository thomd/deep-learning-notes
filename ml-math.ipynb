{
 "cells": [
  {
   "cell_type": "markdown",
   "metadata": {},
   "source": [
    "# Activation Functions\n",
    "\n",
    "## Softmax\n",
    "\n",
    "Softmax is an Activation Functions. Softmax is a generalization of Sigmoind for $n = 2$\n",
    "\n",
    "<div class=\"alert alert-block alert-warning\">TODO: https://www.quora.com/Why-is-it-better-to-use-Softmax-function-than-sigmoid-function</div>"
   ]
  },
  {
   "cell_type": "markdown",
   "metadata": {},
   "source": [
    "## Sigmoid\n",
    "\n",
    "Sigmoid is an Activation Function:\n",
    "\n",
    "$$\\sigma(x) = \\frac{1}{1 + e^{-x}}$$\n",
    "\n",
    "The **derivative** of Sigmoid is:\n",
    "\n",
    "$$\\begin{align*}\n",
    "\\sigma'(x) = \\frac{\\mathrm{d}}{\\mathrm{d}x} \\sigma(x) &= \\frac{\\mathrm{d}}{\\mathrm{d}x} \\Big(\\frac{1}{1 + e^{-x}} \\Big)^{-1}\\\\ \\\\\n",
    "&= -(1 + e^{-x})^{-2} \\; (-e^{-x})\\\\ \\\\\n",
    "&= \\frac{e^{-x}}{(1+e^{-x})^2}\\\\ \\\\\n",
    "&= \\frac{1}{1+e^{-x}} \\cdot \\frac{e^{-x}}{1+e^{-x}}\\\\ \\\\\n",
    "&= \\frac{1}{1+e^{-x}} \\cdot \\frac{1 + e^{-x} - 1}{1+e^{-x}}\\\\ \\\\\n",
    "&= \\frac{1}{1+e^{-x}} \\cdot \\bigg( \\frac{1 + e^{-x}}{1+e^{-x}} - \\frac{1}{1+e^{-x}} \\bigg)\\\\ \\\\\n",
    "&= \\frac{1}{1+e^{-x}} \\cdot \\bigg( 1 - \\frac{1}{1+e^{-x}} \\bigg)\\\\ \\\\\n",
    "&= \\sigma(x) \\cdot \\big( 1 - \\sigma(x) \\big)\\\\\n",
    "\\end{align*}$$ "
   ]
  },
  {
   "cell_type": "markdown",
   "metadata": {},
   "source": [
    "# Loss Functions\n",
    "\n",
    "The network needs to make predictions as close as possible to the real values. To measure this, we use a metric of how wrong the predictions are, the **error**. \n",
    "\n",
    "## Cross Entropy Loss\n",
    "\n",
    "Cross Entropy is used in ML as a Loss Function. Multiclass Cross Entropy is a generalization for Two Class Cross Entropy\n",
    "\n",
    "<div class=\"alert alert-block alert-warning\">TODO</divY"
   ]
  },
  {
   "cell_type": "markdown",
   "metadata": {},
   "source": [
    "## Sum of Squared Errors (SSE)\n",
    "\n",
    "A common metric is the sum of the squared errors. The **SSE** is a good choice for a few reasons, for example compared to just using $E=|y-\\hat{y}|$: the square ensures the **error is always positive** and **larger errors are penalized** more than smaller errors. Also, it makes the **math nice**.\n",
    "\n",
    "$$E = \\frac{1}{2} \\sum_\\mu \\sum_j \\big[y_j^{\\,\\mu} - \\hat{y}_j^{\\,\\mu}\\big]^2$$\n",
    "\n",
    "with the **prediction** \n",
    "\n",
    "$$\\hat{y}_j^{\\,\\mu} = f \\big(\\sum_i w_{ij} \\, x_i^{\\,\\mu} \\big) = f(h_{\\mu j})$$\n",
    "\n",
    "and the **real value** $y$, the number of **output units** $j$ and the number of **data records** $\\mu$. Also let be $h_{\\mu j}$ the **linear combination** of the weights and the inputs.\n",
    "\n",
    "Our goal is to find weights $w_{ij}$ that minimize the squared error $E$. To do this with a neural network we typically use **gradient descent**."
   ]
  },
  {
   "cell_type": "markdown",
   "metadata": {},
   "source": [
    "## Mean Squared Errors (MSE)\n",
    "\n",
    "The mean squared error is the SSE divided by the degrees of freedom for the errors for the model.\n",
    "\n",
    "<div class=\"alert alert-block alert-warning\">TODO</div>"
   ]
  },
  {
   "cell_type": "markdown",
   "metadata": {},
   "source": [
    "# Gradient Descent\n",
    "\n",
    "Weights are updated by **substracting** the **gradient** (or **weight step**) $\\Delta w_i$ multiplied by a **learning rate** $\\eta$:\n",
    "\n",
    "$$w_i  = w_i + \\Delta w_i = w_i - \\eta \\, \\frac{\\partial E}{\\partial w_i}$$"
   ]
  },
  {
   "cell_type": "markdown",
   "metadata": {},
   "source": [
    "## Gradient Descent of SSE\n",
    "\n",
    "### One Output Unit\n",
    "\n",
    "Supposed we have only **one data record** and **one output unit** then the SSE is\n",
    "\n",
    "$$E = \\frac{1}{2}(y - \\hat{y})^2$$\n",
    "\n",
    "with the **error** $(y - \\hat{y})$, \n",
    "\n",
    "$$\\begin{align*}\n",
    "\\hat{y} &= f(h) = \\sigma(h)\\\\\n",
    "h &= \\sum_i w_i x_i\n",
    "\\end{align*}$$\n",
    "\n",
    "The gradient of $E$ w.r.t. $w_i$ is the negative of the **error** times the **derivative of the activation function** at $h$ times the **input value** $x_i$:\n",
    "\n",
    "$$\\begin{align*}\n",
    "\\frac{\\partial E}{\\partial w_i} &= \\frac{\\partial}{\\partial w_i} \\frac{1}{2} (y - \\hat{y})^2\\\\\n",
    "&=(y - \\hat{y}) \\cdot \\frac{\\partial}{\\partial w_i} (y - \\hat{y})\\\\\n",
    "&=-(y - \\hat{y}) \\cdot \\frac{\\partial}{\\partial w_i} \\hat{y}\\\\\n",
    "&=-(y - \\hat{y}) \\cdot f'(h) \\cdot \\frac{\\partial}{\\partial w_i}\\sum_i w_i x_i\\\\\n",
    "&=-(y - \\hat{y}) \\cdot f'(h) \\cdot x_i\\\\\n",
    "\\end{align*}$$\n",
    "\n",
    "Then the **weight step** $\\Delta w_i$ is\n",
    "\n",
    "$$\\begin{align*}\n",
    "\\Delta w_i &= - \\eta \\, \\frac{\\partial E}{\\partial w_i}\\\\\n",
    "&= \\eta \\cdot (y - \\hat{y}) \\cdot f'(h) \\cdot x_i\n",
    "\\end{align*}$$\n",
    "\n",
    "For convenience we define an **error term** $\\delta$ as\n",
    "\n",
    "$$\\delta = (y - \\hat{y}) \\cdot f'(h)$$\n",
    "\n",
    "so we can write the **weight update** as\n",
    "\n",
    "$$w_i = w_i + \\eta \\, \\delta \\, x_i$$\n",
    "\n",
    "### Multiple Output Units\n",
    "\n",
    "for multiple output units we have multiple error terms:\n",
    "\n",
    "$$\\delta_j = (y_j - \\hat{y}_j) \\cdot f'(h_j)$$\n",
    "\n",
    "$$w_{ij} = w_{ij} + \\Delta w_{ij} = w_{ij} + \\eta \\, \\delta_j \\, x_i$$\n"
   ]
  },
  {
   "cell_type": "markdown",
   "metadata": {},
   "source": [
    "### Python Example\n",
    "\n",
    "with one data record and four input values:"
   ]
  },
  {
   "cell_type": "code",
   "execution_count": 1,
   "metadata": {},
   "outputs": [
    {
     "data": {
      "text/html": [
       "<div>\n",
       "<style scoped>\n",
       "    .dataframe tbody tr th:only-of-type {\n",
       "        vertical-align: middle;\n",
       "    }\n",
       "\n",
       "    .dataframe tbody tr th {\n",
       "        vertical-align: top;\n",
       "    }\n",
       "\n",
       "    .dataframe thead th {\n",
       "        text-align: right;\n",
       "    }\n",
       "</style>\n",
       "<table border=\"1\" class=\"dataframe\">\n",
       "  <thead>\n",
       "    <tr style=\"text-align: right;\">\n",
       "      <th></th>\n",
       "      <th>w1</th>\n",
       "      <th>w2</th>\n",
       "      <th>w3</th>\n",
       "      <th>w4</th>\n",
       "      <th>error</th>\n",
       "    </tr>\n",
       "  </thead>\n",
       "  <tbody>\n",
       "    <tr>\n",
       "      <th>0</th>\n",
       "      <td>0.5000</td>\n",
       "      <td>-0.5000</td>\n",
       "      <td>0.3000</td>\n",
       "      <td>0.1000</td>\n",
       "      <td>-0.1900</td>\n",
       "    </tr>\n",
       "    <tr>\n",
       "      <th>1</th>\n",
       "      <td>0.4797</td>\n",
       "      <td>-0.5406</td>\n",
       "      <td>0.2390</td>\n",
       "      <td>0.0187</td>\n",
       "      <td>-0.0475</td>\n",
       "    </tr>\n",
       "    <tr>\n",
       "      <th>2</th>\n",
       "      <td>0.4738</td>\n",
       "      <td>-0.5524</td>\n",
       "      <td>0.2214</td>\n",
       "      <td>-0.0048</td>\n",
       "      <td>-0.0035</td>\n",
       "    </tr>\n",
       "    <tr>\n",
       "      <th>3</th>\n",
       "      <td>0.4734</td>\n",
       "      <td>-0.5533</td>\n",
       "      <td>0.2201</td>\n",
       "      <td>-0.0065</td>\n",
       "      <td>-0.0002</td>\n",
       "    </tr>\n",
       "    <tr>\n",
       "      <th>4</th>\n",
       "      <td>0.4733</td>\n",
       "      <td>-0.5533</td>\n",
       "      <td>0.2200</td>\n",
       "      <td>-0.0067</td>\n",
       "      <td>-0.0000</td>\n",
       "    </tr>\n",
       "  </tbody>\n",
       "</table>\n",
       "</div>"
      ],
      "text/plain": [
       "       w1      w2      w3      w4   error\n",
       "0  0.5000 -0.5000  0.3000  0.1000 -0.1900\n",
       "1  0.4797 -0.5406  0.2390  0.0187 -0.0475\n",
       "2  0.4738 -0.5524  0.2214 -0.0048 -0.0035\n",
       "3  0.4734 -0.5533  0.2201 -0.0065 -0.0002\n",
       "4  0.4733 -0.5533  0.2200 -0.0067 -0.0000"
      ]
     },
     "execution_count": 1,
     "metadata": {},
     "output_type": "execute_result"
    }
   ],
   "source": [
    "import numpy as np\n",
    "import pandas as pd\n",
    "\n",
    "def sigmoid(x):\n",
    "    return 1/(1+np.exp(-x))\n",
    "\n",
    "def sigmoid_prime(x):\n",
    "    return sigmoid(x) * (1 - sigmoid(x))\n",
    "\n",
    "learnrate = 0.5\n",
    "x = np.array([1, 2, 3, 4])\n",
    "y = np.array(0.5)\n",
    "w = np.array([0.5, -0.5, 0.3, 0.1])          # Initial weights\n",
    "\n",
    "data = []\n",
    "for i in range(5):\n",
    "    h = np.dot(x, w)\n",
    "    y_hat = sigmoid(h)\n",
    "    error = y - y_hat\n",
    "    data.append((w[0], w[1], w[2], w[3], error))\n",
    "\n",
    "    error_term = error * sigmoid_prime(h)\n",
    "    delta_w = learnrate * error_term * x\n",
    "    w = w + delta_w\n",
    "\n",
    "pd.DataFrame(data, columns=['w1', 'w2', 'w3', 'w4', 'error']).round(4)"
   ]
  },
  {
   "cell_type": "markdown",
   "metadata": {},
   "source": [
    "## Momentum\n",
    "\n",
    "[Momentum](https://distill.pub/2017/momentum/) is a method to **avoid local minimums** and miss the lowest possible minimum."
   ]
  },
  {
   "cell_type": "markdown",
   "metadata": {},
   "source": []
  }
 ],
 "metadata": {
  "kernelspec": {
   "display_name": "Python 3",
   "language": "python",
   "name": "python3"
  },
  "language_info": {
   "codemirror_mode": {
    "name": "ipython",
    "version": 3
   },
   "file_extension": ".py",
   "mimetype": "text/x-python",
   "name": "python",
   "nbconvert_exporter": "python",
   "pygments_lexer": "ipython3",
   "version": "3.7.7"
  }
 },
 "nbformat": 4,
 "nbformat_minor": 4
}
