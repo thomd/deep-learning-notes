{
 "cells": [
  {
   "cell_type": "markdown",
   "metadata": {},
   "source": [
    "# Recurrent Neural Networks"
   ]
  },
  {
   "cell_type": "markdown",
   "metadata": {},
   "source": [
    "### RNN vs. FFNN\n",
    "\n",
    "There are two main differences between FFNNs and RNNs. The Recurrent Neural Network uses:\n",
    "\n",
    "1. **sequences** as inputs in the training phase, and\n",
    "2. **memory** elements\n",
    "\n",
    "Memory is defined as the output of hidden layer neurons, which will serve as additional input to the network during next training step."
   ]
  },
  {
   "cell_type": "markdown",
   "metadata": {},
   "source": [
    "### Representing Memory\n",
    "\n",
    "RNN’s work well for sequences of data because they have a kind of **memory**. This memory is represented by something called the **hidden state**.\n",
    "\n",
    "For example, in an character-level LSTM, each LSTM cell, in addition to accepting a character as input and generating an output character, also has some hidden state, and each cell will pass along its hidden state to the next cell.\n",
    "\n",
    "This connection creates a kind of memory by which a series of cells can remember which characters they’ve just seen and use that information to inform the next prediction!\n",
    "\n",
    "For example, if a cell has just generated the character `a` it likely will **not** generate another `a`, right after that!"
   ]
  },
  {
   "cell_type": "markdown",
   "metadata": {},
   "source": [
    "### RNN vs. LSTM\n",
    "\n",
    "**RNN** have a key flaw, as capturing relationships that span more than 8 or 10 steps back is practically impossible. This flaw stems from the **vanishing gradient** or **exploding gradient** problem in which the contribution of information decays geometrically over time.\n",
    "\n",
    "**LSTM** is one option to overcome the Vanishing Gradient problem in RNNs."
   ]
  },
  {
   "cell_type": "markdown",
   "metadata": {},
   "source": [
    "### Simple RNN (aka Elman Network)\n",
    "\n",
    "![](images/rnn-FFNN-RNN.svg)\n",
    "\n",
    "In RNNs, our output at time $t$, depends not only on the current input and the weight, but also on previous inputs. In this case the output at time $t$ will be defined as:\n",
    "\n",
    "$$\\bar{y}_t = F(\\bar{x}_t, \\bar{x}_{t-1}, \\ldots, \\bar{x}_{t-t_0}, W)$$\n",
    "\n",
    "![multi-layer RNN](images/rnn-ML-FFNN-RNN.svg)\n",
    "\n",
    "When we train a RNN by Backpropagation Through Time, it means we first unroll the RNN in time by creating a copy of the network for each time step, viewing it as a multi-layer feedforward neural network, where the **number of layers** is equal to the **number of time steps**. Then we do backpropagation on the unrolled network, taking into account the **weight sharing**.\n",
    "\n",
    "![](images/rnn.svg)\n",
    "\n",
    "with the **input vector** $\\bar{x}$, the **output vector** $\\bar{y}$ and the **state vector** $\\bar{s}$.\n",
    "\n",
    "$W_x$ is the weight matrix connecting the inputs to the **state layer**, $W_y$ is the weight matrix connecting the state layer to the output layer and $W_s$ represents the weight matrix connecting the state from the previous timestep to the state in the current timestep.\n",
    "\n",
    "In **FFNNs** the hidden layer depended only on the current inputs and weights, as well as on an nonlinear **activation function** $\\Phi$ like $\\text{tanh}$ or $\\text{ReLU}$:\n",
    "\n",
    "$$\\bar{h} = \\Phi(\\bar{x} W)$$\n",
    "\n",
    "In **RNNs** the state layer depended on the current inputs, their corresponding weights, the activation function and **also on the previous state**:\n",
    "\n",
    "$$\\bar{h} = \\bar{s}_t = \\Phi(\\bar{x}_t W_x + \\bar{s}_{t-1} W_s)$$\n",
    "\n",
    "The output vector is calculated exactly the same as in FFNNs. It can be a linear combination of the inputs to each output node with the corresponding weight matrix $W_y$ or a **softmax function** $\\sigma$ of the same linear combination:\n",
    "\n",
    "$$\\bar{y}_t = \\bar{s}_t W_y \\qquad \\text{or} \\qquad \\bar{y}_t = \\sigma(\\bar{s}_t W_y)$$"
   ]
  },
  {
   "cell_type": "markdown",
   "metadata": {},
   "source": [
    "### Example with torch.nn.RNN\n",
    "\n",
    "`torch.nn.RNN` applies a multi-layer Elman RNN with $\\tanh$ or $\\text{ReLU}$ non-linearity to an input sequence.\n",
    "\n",
    "For each element in the input sequence, each layer computes the following function:\n",
    "\n",
    "$$s_t = \\tanh(W_x \\, x_t + b_x + W_s \\, s_{t-1} + b_s)$$"
   ]
  },
  {
   "cell_type": "code",
   "execution_count": 1,
   "metadata": {},
   "outputs": [
    {
     "data": {
      "text/plain": [
       "RNN(4, 2, batch_first=True)"
      ]
     },
     "execution_count": 1,
     "metadata": {},
     "output_type": "execute_result"
    }
   ],
   "source": [
    "import torch\n",
    "import torch.nn as nn\n",
    "torch.manual_seed(0)\n",
    "\n",
    "# suppose we have a one hot encoding for each char in 'hello'\n",
    "h = [1, 0, 0, 0]\n",
    "e = [0, 1, 0, 0]\n",
    "l = [0, 0, 1, 0]\n",
    "o = [0, 0, 0, 1]\n",
    "\n",
    "# and the sequence length for the word 'hello' is 5\n",
    "seq_len = 5\n",
    "\n",
    "# single layer RNN cell with input [4] -> output [2]\n",
    "rnn = nn.RNN(input_size = 4, hidden_size = 2, num_layers = 1, batch_first = True)\n",
    "rnn"
   ]
  },
  {
   "cell_type": "markdown",
   "metadata": {},
   "source": [
    "The functionality of `batch_first` is to **switch** the **timestep dimension** and the **batch dimension** of the **input** and **output**. \n",
    "\n",
    "The **hidden state** has no timestep dimension, hence `batch_first` has no affect on the hidden state."
   ]
  },
  {
   "cell_type": "code",
   "execution_count": 2,
   "metadata": {},
   "outputs": [
    {
     "name": "stdout",
     "output_type": "stream",
     "text": [
      "torch.Size([1, 5, 4])\n",
      "tensor([[[1., 0., 0., 0.],\n",
      "         [0., 1., 0., 0.],\n",
      "         [0., 0., 1., 0.],\n",
      "         [0., 0., 1., 0.],\n",
      "         [0., 0., 0., 1.]]])\n"
     ]
    }
   ],
   "source": [
    "inputs = torch.tensor([[h, e, l, l, o]], dtype = torch.float)              # [batch, seq_len, input_size] for batch_first=True\n",
    "\n",
    "print(inputs.size())\n",
    "print(inputs)"
   ]
  },
  {
   "cell_type": "code",
   "execution_count": 3,
   "metadata": {},
   "outputs": [
    {
     "name": "stdout",
     "output_type": "stream",
     "text": [
      "torch.Size([1, 1, 2])\n",
      "tensor([[[0., 0.]]])\n"
     ]
    }
   ],
   "source": [
    "# 'hidden' is the state vector\n",
    "hidden = torch.zeros(1, 1, 2)            # [num_layers, batch, hidden_size]\n",
    "\n",
    "print(hidden.size())\n",
    "print(hidden)"
   ]
  },
  {
   "cell_type": "markdown",
   "metadata": {},
   "source": [
    "![](images/rnn-Example.svg)"
   ]
  },
  {
   "cell_type": "code",
   "execution_count": 4,
   "metadata": {},
   "outputs": [],
   "source": [
    "out, hidden = rnn(inputs, hidden)"
   ]
  },
  {
   "cell_type": "code",
   "execution_count": 5,
   "metadata": {},
   "outputs": [
    {
     "name": "stdout",
     "output_type": "stream",
     "text": [
      "torch.Size([1, 5, 2])\n"
     ]
    },
    {
     "data": {
      "text/plain": [
       "tensor([[[-0.7497, -0.6135],\n",
       "         [-0.5753, -0.0070],\n",
       "         [-0.9077, -0.3205],\n",
       "         [-0.9141, -0.2142],\n",
       "         [-0.8996,  0.3307]]], grad_fn=<TransposeBackward1>)"
      ]
     },
     "execution_count": 5,
     "metadata": {},
     "output_type": "execute_result"
    }
   ],
   "source": [
    "# 'out' contains all hidden states 's1' ... 's5' throughout the sequence\n",
    "print(out.shape)\n",
    "out"
   ]
  },
  {
   "cell_type": "code",
   "execution_count": 6,
   "metadata": {},
   "outputs": [
    {
     "name": "stdout",
     "output_type": "stream",
     "text": [
      "torch.Size([1, 1, 2])\n"
     ]
    },
    {
     "data": {
      "text/plain": [
       "tensor([[[-0.8996,  0.3307]]], grad_fn=<StackBackward>)"
      ]
     },
     "execution_count": 6,
     "metadata": {},
     "output_type": "execute_result"
    }
   ],
   "source": [
    "# 'hidden' is the most recent hidden state (same as 'out[:,-1,:]')\n",
    "print(hidden.shape)\n",
    "hidden"
   ]
  },
  {
   "cell_type": "markdown",
   "metadata": {},
   "source": [
    "#### Manual Calculation"
   ]
  },
  {
   "cell_type": "code",
   "execution_count": 7,
   "metadata": {},
   "outputs": [
    {
     "name": "stdout",
     "output_type": "stream",
     "text": [
      "s5 = tensor([[-0.8996,  0.3307]], grad_fn=<ViewBackward>)\n"
     ]
    }
   ],
   "source": [
    "# weight matrix\n",
    "Ws = rnn.weight_hh_l0                            # [2,2]\n",
    "Wx = rnn.weight_ih_l0                            # [2,4]\n",
    "\n",
    "# bias vector\n",
    "Bs = rnn.bias_hh_l0.view(-1, 1)                  # [2] -> [2,1]\n",
    "Bx = rnn.bias_ih_l0.view(-1, 1)                  # [2] -> [2,1]\n",
    "\n",
    "# input\n",
    "X = inputs.squeeze(0)                            # [1,5,4] -> [5,4]\n",
    "x1 = X[0].view(-1, 1)                            #     [4] -> [4,1]\n",
    "x2 = X[1].view(-1, 1)\n",
    "x3 = X[2].view(-1, 1)\n",
    "x4 = X[3].view(-1, 1)\n",
    "x5 = X[4].view(-1, 1)\n",
    "\n",
    "# hidden states\n",
    "hidden = torch.zeros(1, 1, 2)\n",
    "s0 = hidden.squeeze(0).T                         # [1,1,2] -> [1,2] -> [2,1]\n",
    "s1 = torch.tanh(Ws @ s0 + Bs + Wx @ x1 + Bx)     # [2,1]\n",
    "s2 = torch.tanh(Ws @ s1 + Bs + Wx @ x2 + Bx)\n",
    "s3 = torch.tanh(Ws @ s2 + Bs + Wx @ x3 + Bx)\n",
    "s4 = torch.tanh(Ws @ s3 + Bs + Wx @ x4 + Bx)\n",
    "s5 = torch.tanh(Ws @ s4 + Bs + Wx @ x5 + Bx)\n",
    "\n",
    "print(f's5 = {s5.view(1,-1)}')"
   ]
  },
  {
   "cell_type": "markdown",
   "metadata": {},
   "source": [
    "## Backpropagation Through Time (BPTT)"
   ]
  },
  {
   "cell_type": "markdown",
   "metadata": {},
   "source": [
    "For the error calculations we use a **loss function**, where $E_t$ represents the **output error** at time $t$, $\\bar{d}_t$ represents the **desired output** at time $t$ and $\\bar{y}_t$ represents the calculated **output** at time $t$:\n",
    "\n",
    "$$E_t = (\\bar{d}_t - \\bar{y}_t)^2$$\n",
    "\n",
    "\n"
   ]
  },
  {
   "cell_type": "markdown",
   "metadata": {},
   "source": [
    "Suppose we calculate the output $\\bar{y}_t = \\bar{s}_t W_y$ and calculate the gradients at time $t = N$.\n",
    "\n",
    "**Gradient Calculations to adjust Output Weight Matrix $W_y$**:\n",
    "\n",
    "![](images/rnn-BPTT_Wy.svg)\n",
    "\n",
    "$$\\frac{\\partial{E_N}}{\\partial{W_y}} = \\frac{\\partial{E_N}}{\\partial{\\bar{y}_N}} \\cdot \\frac{\\partial{\\bar{y}_N}}{\\partial{W_y}}$$\n",
    "\n",
    "**Gradient Calculations to adjust State Weight Matrix $W_s$**:\n",
    "\n",
    "to find the final gradient calculation, we **accumulate** the contributions from **all states**: $\\bar{s}_t, \\bar{s}_{t-1}, ..., \\bar{s}_{t-N}$:\n",
    "\n",
    "![](images/rnn-BPTT_Ws.svg)\n",
    "\n",
    "$$\\frac{\\partial{E_N}}{\\partial{W_s}} = \\sum_{i=1}^{N} \\frac{\\partial{E_N}}{\\partial{\\bar{y}_N}} \\cdot \\frac{\\partial{\\bar{y}_N}}{\\partial{\\bar{s}_i}} \\cdot \\frac{\\partial{\\bar{s}_i}}{\\partial{W_s}}$$\n",
    "\n",
    "**Gradient Calculations to adjust Input Weight Matrix $W_x$**:\n",
    "\n",
    "to find the final gradient calculation, we **accumulate** the contributions from **all inputs**: $\\bar{x}_t, \\bar{x}_{t-1}, ..., \\bar{x}_{t-N}$:\n",
    "\n",
    "![](images/rnn-BPTT_Wx.svg)\n",
    "\n",
    "$$\\frac{\\partial{E_N}}{\\partial{W_x}} = \\sum_{i=1}^{N} \\frac{\\partial{E_N}}{\\partial{\\bar{y}_N}} \\cdot \\frac{\\partial{\\bar{y}_N}}{\\partial{\\bar{s}_i}} \\cdot \\frac{\\partial{\\bar{s}_i}}{\\partial{W_x}}$$"
   ]
  },
  {
   "cell_type": "markdown",
   "metadata": {},
   "source": [
    "### Example 1\n",
    "\n",
    "Teach a RNN to produce *ihello* from *hihell* using `torch.nn.RNN`."
   ]
  },
  {
   "cell_type": "code",
   "execution_count": 8,
   "metadata": {},
   "outputs": [],
   "source": [
    "import torch\n",
    "import torch.nn as nn\n",
    "import torch.optim as optim\n",
    "from torchsummaryX import summary"
   ]
  },
  {
   "cell_type": "markdown",
   "metadata": {},
   "source": [
    "#### Data"
   ]
  },
  {
   "cell_type": "code",
   "execution_count": 15,
   "metadata": {},
   "outputs": [],
   "source": [
    "# create an index to character mapping\n",
    "idx2char= ['h', 'i', 'e', 'l', 'o']\n",
    "\n",
    "# Teach hihell -> ihello\n",
    "x_data = [[0, 1, 0, 2, 3, 3]]    # hihell\n",
    "\n",
    "x_one_hot = [[[1, 0, 0, 0, 0],   # h 0\n",
    "              [0, 1, 0, 0, 0],   # i 1\n",
    "              [1, 0, 0, 0, 0],   # h 0\n",
    "              [0, 0, 1, 0, 0],   # e 2\n",
    "              [0, 0, 0, 1, 0],   # l 3\n",
    "              [0, 0, 0, 1, 0]]]  # l 3\n",
    "\n",
    "inputs = torch.tensor(x_one_hot, dtype=torch.float)\n",
    "labels = torch.tensor([1, 0, 2, 3, 3, 4], dtype=torch.long) # ihello"
   ]
  },
  {
   "cell_type": "code",
   "execution_count": 16,
   "metadata": {},
   "outputs": [
    {
     "data": {
      "text/plain": [
       "tensor([[[1., 0., 0., 0., 0.],\n",
       "         [0., 1., 0., 0., 0.],\n",
       "         [1., 0., 0., 0., 0.],\n",
       "         [0., 0., 1., 0., 0.],\n",
       "         [0., 0., 0., 1., 0.],\n",
       "         [0., 0., 0., 1., 0.]]])"
      ]
     },
     "execution_count": 16,
     "metadata": {},
     "output_type": "execute_result"
    }
   ],
   "source": [
    "inputs"
   ]
  },
  {
   "cell_type": "code",
   "execution_count": 17,
   "metadata": {},
   "outputs": [
    {
     "data": {
      "text/plain": [
       "tensor([1, 0, 2, 3, 3, 4])"
      ]
     },
     "execution_count": 17,
     "metadata": {},
     "output_type": "execute_result"
    }
   ],
   "source": [
    "labels"
   ]
  },
  {
   "cell_type": "markdown",
   "metadata": {},
   "source": [
    "#### Model\n",
    "\n",
    "We choose the following hyperparameters:\n",
    "\n",
    "* **seq_len = 6**: `|hihell| == 6`, equivalent to time steps\n",
    "* **input_size = 5**: one-hot size\n",
    "* **batch_size = 1**: one sentence per batch\n",
    "* **num_layers = 1**: one-layer rnn\n",
    "* **num_classes = 5**: predicting 5 distinct characters\n",
    "* **hidden_size = 4**: output from the RNN"
   ]
  },
  {
   "cell_type": "code",
   "execution_count": 18,
   "metadata": {},
   "outputs": [
    {
     "name": "stdout",
     "output_type": "stream",
     "text": [
      "=====================================================\n",
      "         Kernel Shape Output Shape  Params  Mult-Adds\n",
      "Layer                                                \n",
      "0_rnn               -    [1, 6, 4]      44         36\n",
      "1_linear       [4, 5]       [6, 5]      25         20\n",
      "-----------------------------------------------------\n",
      "                      Totals\n",
      "Total params              69\n",
      "Trainable params          69\n",
      "Non-trainable params       0\n",
      "Mult-Adds                 56\n",
      "=====================================================\n"
     ]
    }
   ],
   "source": [
    "class RNN1(nn.Module):\n",
    "    def __init__(self):\n",
    "        super().__init__()\n",
    "        self.rnn = nn.RNN(input_size = 5, hidden_size = 4, num_layers = 1, batch_first = True)\n",
    "        self.linear = nn.Linear(in_features = 4, out_features = 5)\n",
    "\n",
    "    def forward(self, x):\n",
    "        hidden = torch.zeros(1, 1, 4)            # [num_layers, batch, hidden_size]\n",
    "        x, _ = self.rnn(x, hidden)               # [1, 6, 4]\n",
    "        x = x.view(-1, 4)                        # [6, 4]\n",
    "        x = self.linear(x)                       # [6, 5]\n",
    "        return x\n",
    "\n",
    "rnn1 = RNN1()\n",
    "\n",
    "summary(rnn1, inputs);"
   ]
  },
  {
   "cell_type": "markdown",
   "metadata": {},
   "source": [
    "#### Train the Model"
   ]
  },
  {
   "cell_type": "code",
   "execution_count": 20,
   "metadata": {},
   "outputs": [
    {
     "name": "stdout",
     "output_type": "stream",
     "text": [
      "epoch:  1, loss: 1.611, predicted string: oooooo\n",
      "epoch:  2, loss: 1.436, predicted string: ooolll\n",
      "epoch:  3, loss: 1.281, predicted string: eeelll\n",
      "epoch:  4, loss: 1.133, predicted string: eeelll\n",
      "epoch:  5, loss: 0.986, predicted string: ehelll\n",
      "epoch:  6, loss: 0.838, predicted string: ehelll\n",
      "epoch:  7, loss: 0.709, predicted string: ehelll\n",
      "epoch:  8, loss: 0.594, predicted string: ehello\n",
      "epoch:  9, loss: 0.489, predicted string: ehello\n",
      "epoch: 10, loss: 0.407, predicted string: ehello\n",
      "epoch: 11, loss: 0.352, predicted string: ihello\n",
      "epoch: 12, loss: 0.310, predicted string: ihello\n",
      "epoch: 13, loss: 0.275, predicted string: ihello\n",
      "epoch: 14, loss: 0.249, predicted string: ihello\n",
      "epoch: 15, loss: 0.228, predicted string: ihello\n"
     ]
    }
   ],
   "source": [
    "criterion = nn.CrossEntropyLoss()\n",
    "optimizer = optim.Adam(rnn1.parameters(), lr = 0.1)\n",
    "\n",
    "num_epochs = 15\n",
    "losses = []\n",
    "for epoch in range(1, num_epochs + 1):\n",
    "    optimizer.zero_grad()\n",
    "    outputs = rnn1(inputs)\n",
    "    loss = criterion(outputs, labels)\n",
    "    loss.backward()\n",
    "    optimizer.step()\n",
    "\n",
    "    losses.append(loss.item())\n",
    "    _, idx = outputs.max(dim = 1)\n",
    "    idx = idx.data.numpy()\n",
    "    result_str = [idx2char[c] for c in idx]\n",
    "    print(f\"epoch: {epoch:2}, loss: {loss.item():1.3f}, predicted string: {''.join(result_str)}\")"
   ]
  },
  {
   "cell_type": "code",
   "execution_count": 21,
   "metadata": {},
   "outputs": [
    {
     "data": {
      "image/png": "[encoded data removed]",
      "text/plain": [
       "<Figure size 432x288 with 1 Axes>"
      ]
     },
     "metadata": {
      "needs_background": "light"
     },
     "output_type": "display_data"
    }
   ],
   "source": [
    "import matplotlib.pyplot as plt\n",
    "plt.plot(losses);"
   ]
  },
  {
   "cell_type": "markdown",
   "metadata": {},
   "source": [
    "### Example 2\n",
    "\n",
    "As an example we have a **sequence** of single numbers (`input_size`), hence having one feature:\n",
    "```\n",
    "[1, 2, 3, 4, 5, 6, 7, 8, 9, 10, 11, 12, 13, 14, 15, 16, 17, 18, 19, 20]\n",
    "```\n",
    "\n",
    "We divide it into **4 batches** (`batch_size`) of **sequence length = 5** (`seq_len`):\n",
    "\n",
    "```\n",
    "[[1, 2, 3, 4, 5],\n",
    " [6, 7, 8, 9, 10],\n",
    " [11, 12, 13, 14, 15],\n",
    " [16, 17, 18, 19, 20]]\n",
    "```\n",
    "\n",
    "Our aim is to looking at 5 (`seq_len`) previous value to **predict the next value** (`hiden_size`)."
   ]
  },
  {
   "cell_type": "code",
   "execution_count": 39,
   "metadata": {},
   "outputs": [],
   "source": [
    "import torch\n",
    "import torch.nn as nn\n",
    "import torch.optim as optim\n",
    "from torchsummaryX import summary"
   ]
  },
  {
   "cell_type": "code",
   "execution_count": 40,
   "metadata": {},
   "outputs": [],
   "source": [
    "#data = torch.Tensor([1, 2, 3, 4, 5, 6, 7, 8, 9, 10, 11, 12, 13, 14, 15, 16, 17, 18, 19, 20, 21])\n",
    "data = torch.Tensor([1, 2, 3, 4, 5, 6])\n",
    "\n",
    "#inputs = data[:-1].view(4, 5, 1)                       # all but the last piece of data\n",
    "#labels = data[1:].view(4, 5, 1)                        # all but the first\n",
    "\n",
    "inputs = data[:-1].view(1, 5, 1)                        # all but the last piece of data\n",
    "labels = data[1:].view(1, 5, 1)                         # all but the first"
   ]
  },
  {
   "cell_type": "code",
   "execution_count": 49,
   "metadata": {},
   "outputs": [
    {
     "name": "stdout",
     "output_type": "stream",
     "text": [
      "==================================================\n",
      "      Kernel Shape Output Shape  Params  Mult-Adds\n",
      "Layer                                             \n",
      "0_rnn            -    [1, 5, 4]      28         20\n",
      "1_fc        [4, 1]       [5, 1]       5          4\n",
      "--------------------------------------------------\n",
      "                      Totals\n",
      "Total params              33\n",
      "Trainable params          33\n",
      "Non-trainable params       0\n",
      "Mult-Adds                 24\n",
      "==================================================\n"
     ]
    }
   ],
   "source": [
    "class RNN2(nn.Module):\n",
    "    def __init__(self):\n",
    "        super().__init__()\n",
    "        self.rnn = nn.RNN(input_size = 1, hidden_size = 4, num_layers = 1, batch_first = True)\n",
    "        self.fc = nn.Linear(in_features = 4, out_features = 1)\n",
    "\n",
    "    def forward(self, x, hidden):\n",
    "        x, hidden = self.rnn(x, hidden)\n",
    "        x = x.reshape(-1, 4)\n",
    "        x = self.fc(x)\n",
    "        return x, hidden\n",
    "\n",
    "rnn2 = RNN2()\n",
    "\n",
    "summary(rnn2, inputs, torch.zeros(1, 1, 4));"
   ]
  },
  {
   "cell_type": "markdown",
   "metadata": {},
   "source": [
    "#### Train the Model"
   ]
  },
  {
   "cell_type": "code",
   "execution_count": 48,
   "metadata": {},
   "outputs": [
    {
     "name": "stdout",
     "output_type": "stream",
     "text": [
      "epoch:  1, loss: 21.436, predicted number: tensor([0.0316])\n",
      "epoch:  2, loss: 21.436, predicted number: tensor([0.0316])\n",
      "epoch:  3, loss: 21.436, predicted number: tensor([0.0316])\n",
      "epoch:  4, loss: 21.436, predicted number: tensor([0.0316])\n",
      "epoch:  5, loss: 21.436, predicted number: tensor([0.0316])\n",
      "epoch:  6, loss: 21.436, predicted number: tensor([0.0316])\n",
      "epoch:  7, loss: 21.436, predicted number: tensor([0.0316])\n",
      "epoch:  8, loss: 21.436, predicted number: tensor([0.0316])\n",
      "epoch:  9, loss: 21.436, predicted number: tensor([0.0316])\n",
      "epoch: 10, loss: 21.436, predicted number: tensor([0.0316])\n"
     ]
    }
   ],
   "source": [
    "criterion = nn.MSELoss()\n",
    "optimizer = torch.optim.Adam(rnn.parameters(), lr=0.01) \n",
    "\n",
    "num_epochs = 10\n",
    "losses = []\n",
    "\n",
    "for epoch in range(1, num_epochs + 1):\n",
    "    epoch_loss = 0.0\n",
    "    hidden = torch.zeros(1,1,4)\n",
    "    for batch_input in inputs:\n",
    "        batch_input = batch_input.unsqueeze(0)\n",
    "        \n",
    "        predictions, hidden = rnn2(batch_input, hidden)\n",
    "    \n",
    "        loss = criterion(predictions, labels)\n",
    "        optimizer.zero_grad()\n",
    "        loss.backward()\n",
    "        optimizer.step()\n",
    "\n",
    "        epoch_loss = epoch_loss + loss.data\n",
    "    \n",
    "    # make a new variable for hidden and detach the hidden state from its history\n",
    "    # this way, we don't backpropagate through the entire history\n",
    "    #hidden = None\n",
    "    \n",
    "    epoch_loss = epoch_loss / inputs.size(0)\n",
    "    losses.append(epoch_loss)\n",
    "#    _, idx = outputs.max(dim = 1)\n",
    "#    idx = idx.data.numpy()\n",
    "#    result_str = [idx2char[c] for c in idx]\n",
    "    print(f\"epoch: {epoch:2}, loss: {epoch_loss.item():1.3f}, predicted number: {predictions.data[0]}\")"
   ]
  },
  {
   "cell_type": "markdown",
   "metadata": {},
   "source": [
    "### Gradient Clipping\n",
    "\n",
    "TODO: https://towardsdatascience.com/what-is-gradient-clipping-b8e815cdfb48"
   ]
  },
  {
   "cell_type": "code",
   "execution_count": null,
   "metadata": {},
   "outputs": [],
   "source": []
  }
 ],
 "metadata": {
  "kernelspec": {
   "display_name": "Python 3",
   "language": "python",
   "name": "python3"
  },
  "language_info": {
   "codemirror_mode": {
    "name": "ipython",
    "version": 3
   },
   "file_extension": ".py",
   "mimetype": "text/x-python",
   "name": "python",
   "nbconvert_exporter": "python",
   "pygments_lexer": "ipython3",
   "version": "3.7.7"
  }
 },
 "nbformat": 4,
 "nbformat_minor": 4
}
