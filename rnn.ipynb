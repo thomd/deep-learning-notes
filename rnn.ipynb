{
 "cells": [
  {
   "cell_type": "markdown",
   "metadata": {},
   "source": [
    "# Recurrent Neural Networks\n",
    "\n",
    "**RNN** have a key flaw, as capturing relationships that span more than 8 or 10 steps back is practically impossible. This flaw stems from the **vanishing gradient** or **exploding gradient** problem in which the contribution of information decays geometrically over time.\n",
    "\n",
    "**LSTM** is one option to overcome the Vanishing Gradient problem in RNNs."
   ]
  },
  {
   "cell_type": "markdown",
   "metadata": {},
   "source": [
    "### RNN vs. FFNN\n",
    "\n",
    "There are two main differences between FFNNs and RNNs. The Recurrent Neural Network uses:\n",
    "\n",
    "1. **sequences** as inputs in the training phase, and\n",
    "2. **memory** elements\n",
    "\n",
    "Memory is defined as the output of hidden layer neurons, which will serve as additional input to the network during next training step."
   ]
  },
  {
   "cell_type": "markdown",
   "metadata": {},
   "source": [
    "### Simple RNN (aka Elman Network)\n",
    "\n",
    "In RNNs, our output at time $t$, depends not only on the current input and the weight, but also on previous inputs. In this case the output at time $t$ will be defined as:\n",
    "\n",
    "$$\\bar{y}_t = F(\\bar{x}_t, \\bar{x}_{t-1}, \\ldots, \\bar{x}_{t-t_0}, W)$$\n",
    "\n",
    "![](images/rnn.svg)\n",
    "\n",
    "with the **input vector** $\\bar{x}$, the **output vector** $\\bar{y}$ and the **state vector** $\\bar{s}$.\n",
    "\n",
    "$W_x$ is the weight matrix connecting the inputs to the **state layer**, $W_y$ is the weight matrix connecting the state layer to the output layer and $W_s$ represents the weight matrix connecting the state from the previous timestep to the state in the current timestep.\n",
    "\n",
    "In **FFNNs** the hidden layer depended only on the current inputs and weights, as well as on an **activation function** $\\Phi$:\n",
    "\n",
    "$$\\bar{h} = \\Phi(\\bar{x} W)$$\n",
    "\n",
    "In **RNNs** the state layer depended on the current inputs, their corresponding weights, the activation function and **also on the previous state**:\n",
    "\n",
    "$$\\bar{h} = \\bar{s}_t = \\Phi(\\bar{x}_t W_x + \\bar{s}_{t-1} W_s)$$\n",
    "\n",
    "The output vector is calculated exactly the same as in FFNNs. It can be a linear combination of the inputs to each output node with the corresponding weight matrix $W_y$ or a **softmax function** $\\sigma$ of the same linear combination:\n",
    "\n",
    "$$\\bar{y}_t = \\bar{s}_t W_y \\qquad \\text{or} \\qquad \\bar{y}_t = \\sigma(\\bar{s}_t W_y)$$"
   ]
  },
  {
   "cell_type": "markdown",
   "metadata": {},
   "source": []
  },
  {
   "cell_type": "markdown",
   "metadata": {},
   "source": [
    "### Backpropagation Through Time (BPTT)"
   ]
  },
  {
   "cell_type": "code",
   "execution_count": null,
   "metadata": {},
   "outputs": [],
   "source": []
  }
 ],
 "metadata": {
  "kernelspec": {
   "display_name": "Python 3",
   "language": "python",
   "name": "python3"
  },
  "language_info": {
   "codemirror_mode": {
    "name": "ipython",
    "version": 3
   },
   "file_extension": ".py",
   "mimetype": "text/x-python",
   "name": "python",
   "nbconvert_exporter": "python",
   "pygments_lexer": "ipython3",
   "version": "3.7.7"
  }
 },
 "nbformat": 4,
 "nbformat_minor": 4
}
