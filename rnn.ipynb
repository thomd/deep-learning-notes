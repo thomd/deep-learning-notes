{
 "cells": [
  {
   "cell_type": "markdown",
   "metadata": {},
   "source": [
    "# Recurrent Neural Networks\n",
    "\n",
    "**RNN** have a key flaw, as capturing relationships that span more than 8 or 10 steps back is practically impossible. This flaw stems from the **vanishing gradient** or **exploding gradient** problem in which the contribution of information decays geometrically over time.\n",
    "\n",
    "**LSTM** is one option to overcome the Vanishing Gradient problem in RNNs."
   ]
  },
  {
   "cell_type": "markdown",
   "metadata": {},
   "source": [
    "### RNN vs. FFNN\n",
    "\n",
    "There are two main differences between FFNNs and RNNs. The Recurrent Neural Network uses:\n",
    "\n",
    "1. **sequences** as inputs in the training phase, and\n",
    "2. **memory** elements\n",
    "\n",
    "Memory is defined as the output of hidden layer neurons, which will serve as additional input to the network during next training step."
   ]
  },
  {
   "cell_type": "markdown",
   "metadata": {},
   "source": [
    "### Simple RNN (aka Elman Network)\n",
    "\n",
    "![](images/rnn-FFNN-RNN.svg)\n",
    "\n",
    "In RNNs, our output at time $t$, depends not only on the current input and the weight, but also on previous inputs. In this case the output at time $t$ will be defined as:\n",
    "\n",
    "$$\\bar{y}_t = F(\\bar{x}_t, \\bar{x}_{t-1}, \\ldots, \\bar{x}_{t-t_0}, W)$$\n",
    "\n",
    "![](images/rnn.svg)\n",
    "\n",
    "with the **input vector** $\\bar{x}$, the **output vector** $\\bar{y}$ and the **state vector** $\\bar{s}$.\n",
    "\n",
    "$W_x$ is the weight matrix connecting the inputs to the **state layer**, $W_y$ is the weight matrix connecting the state layer to the output layer and $W_s$ represents the weight matrix connecting the state from the previous timestep to the state in the current timestep.\n",
    "\n",
    "In **FFNNs** the hidden layer depended only on the current inputs and weights, as well as on an nonlinear **activation function** $\\Phi$ like $\\text{tanh}$ or $\\text{ReLU}$:\n",
    "\n",
    "$$\\bar{h} = \\Phi(\\bar{x} W)$$\n",
    "\n",
    "In **RNNs** the state layer depended on the current inputs, their corresponding weights, the activation function and **also on the previous state**:\n",
    "\n",
    "$$\\bar{h} = \\bar{s}_t = \\Phi(\\bar{x}_t W_x + \\bar{s}_{t-1} W_s)$$\n",
    "\n",
    "The output vector is calculated exactly the same as in FFNNs. It can be a linear combination of the inputs to each output node with the corresponding weight matrix $W_y$ or a **softmax function** $\\sigma$ of the same linear combination:\n",
    "\n",
    "$$\\bar{y}_t = \\bar{s}_t W_y \\qquad \\text{or} \\qquad \\bar{y}_t = \\sigma(\\bar{s}_t W_y)$$"
   ]
  },
  {
   "cell_type": "markdown",
   "metadata": {},
   "source": [
    "### Example with torch.nn.RNN\n",
    "\n",
    "`torch.nn.RNN` applies a multi-layer Elman RNN with $\\tanh$ or $\\text{ReLU}$ non-linearity to an input sequence.\n",
    "\n",
    "For each element in the input sequence, each layer computes the following function:\n",
    "\n",
    "$$s_t = \\tanh(W_x \\, x_t + b_x + W_s \\, s_{t-1} + b_s)$$"
   ]
  },
  {
   "cell_type": "code",
   "execution_count": 2,
   "metadata": {},
   "outputs": [
    {
     "name": "stdout",
     "output_type": "stream",
     "text": [
      "torch.Size([1, 5, 4])\n",
      "tensor([[[1., 0., 0., 0.],\n",
      "         [0., 1., 0., 0.],\n",
      "         [0., 0., 1., 0.],\n",
      "         [0., 0., 1., 0.],\n",
      "         [0., 0., 0., 1.]]])\n"
     ]
    }
   ],
   "source": [
    "import torch\n",
    "import torch.nn as nn\n",
    "\n",
    "# suppose we have a one hot encoding for each char in 'hello'\n",
    "# and the sequence length for the word 'hello' is 5\n",
    "seq_len = 5\n",
    "h = [1, 0, 0, 0]\n",
    "e = [0, 1, 0, 0]\n",
    "l = [0, 0, 1, 0]\n",
    "o = [0, 0, 0, 1]\n",
    "\n",
    "# here we specify a single RNN cell with the property of\n",
    "# input_dim (4) -> output_dim (2)\n",
    "# batch_first explained in the following\n",
    "rnn_cell = nn.RNN(input_size = 4, hidden_size = 2, batch_first = True)\n",
    "\n",
    "# our input shape should be of shape (batch, seq_len, input_size)\n",
    "inputs = torch.tensor([h, e, l, l, o], dtype=torch.float)\n",
    "inputs = inputs.view(1, 5, -1)\n",
    "print(inputs.size())\n",
    "print(inputs)"
   ]
  },
  {
   "cell_type": "code",
   "execution_count": null,
   "metadata": {},
   "outputs": [],
   "source": [
    "# our hidden is the weights that gets passed along the cells,\n",
    "# here we initialize some random values for it:\n",
    "# (batch, num_layers * num_directions, hidden_size) for batch_first=True\n",
    "# disregard the second argument as of now\n",
    "hidden = torch.zeros(1, 1, 2)\n",
    "print(hidden.size())\n",
    "print(hidden)"
   ]
  },
  {
   "cell_type": "markdown",
   "metadata": {},
   "source": [
    "![](images/rnn-Example.svg)"
   ]
  },
  {
   "cell_type": "code",
   "execution_count": null,
   "metadata": {},
   "outputs": [],
   "source": [
    "# manual calculation\n",
    "# ------------------\n",
    "\n",
    "# weight matrix\n",
    "Ws = rnn_cell.weight_hh_l0\n",
    "Wx = rnn_cell.weight_ih_l0\n",
    "\n",
    "# bias vector\n",
    "Bs = rnn_cell.bias_hh_l0.view(-1, 1)\n",
    "Bx = rnn_cell.bias_ih_l0.view(-1, 1)\n",
    "\n",
    "# input\n",
    "X = inputs.squeeze(0)\n",
    "x1 = X[0].view(-1, 1)\n",
    "x2 = X[1].view(-1, 1)\n",
    "x3 = X[2].view(-1, 1)\n",
    "x4 = X[3].view(-1, 1)\n",
    "x5 = X[4].view(-1, 1)\n",
    "\n",
    "# hidden states\n",
    "s0 = hidden.squeeze(0).T\n",
    "s1 = torch.tanh(Ws @ s0 + Bs + Wx @ x1 + Bx)\n",
    "s2 = torch.tanh(Ws @ s1 + Bs + Wx @ x2 + Bx)\n",
    "s3 = torch.tanh(Ws @ s2 + Bs + Wx @ x3 + Bx)\n",
    "s4 = torch.tanh(Ws @ s3 + Bs + Wx @ x4 + Bx)\n",
    "s5 = torch.tanh(Ws @ s4 + Bs + Wx @ x5 + Bx)\n",
    "print(f's5 = {s5}')"
   ]
  },
  {
   "cell_type": "code",
   "execution_count": null,
   "metadata": {},
   "outputs": [],
   "source": [
    "# calculation by pytorch \n",
    "# ----------------------\n",
    "\n",
    "out, hidden = rnn_cell(inputs, hidden)"
   ]
  },
  {
   "cell_type": "code",
   "execution_count": null,
   "metadata": {},
   "outputs": [],
   "source": [
    "# the first value returned by the rnn cell contains all hidden states throughout the sequence:\n",
    "print(f'all hidden states:\\n{out}')"
   ]
  },
  {
   "cell_type": "code",
   "execution_count": null,
   "metadata": {},
   "outputs": [],
   "source": [
    "# the second value is the most recent hidden state:\n",
    "print(f'most recent hidden state:\\n{hidden}')"
   ]
  },
  {
   "cell_type": "code",
   "execution_count": null,
   "metadata": {},
   "outputs": [],
   "source": [
    "print(f'comparing rnn cell output:\\n{out[:, -1, :]}\\n{hidden[0]}')"
   ]
  },
  {
   "cell_type": "markdown",
   "metadata": {},
   "source": [
    "## Backpropagation Through Time (BPTT)"
   ]
  },
  {
   "cell_type": "markdown",
   "metadata": {},
   "source": [
    "For the error calculations we use a **loss function**, where $E_t$ represents the **output error** at time $t$, $\\bar{d}_t$ represents the **desired output** at time $t$ and $\\bar{y}_t$ represents the calculated **output** at time $t$:\n",
    "\n",
    "$$E_t = (\\bar{d}_t - \\bar{y}_t)^2$$\n",
    "\n",
    "\n"
   ]
  },
  {
   "cell_type": "markdown",
   "metadata": {},
   "source": [
    "Suppose we calculate the output $\\bar{y}_t = \\bar{s}_t W_y$ and calculate the gradients at time $t = N$.\n",
    "\n",
    "**Gradient Calculations to adjust Output Weight Matrix $W_y$**:\n",
    "\n",
    "![](images/rnn-BPTT_Wy.svg)\n",
    "\n",
    "$$\\frac{\\partial{E_N}}{\\partial{W_y}} = \\frac{\\partial{E_N}}{\\partial{\\bar{y}_N}} \\cdot \\frac{\\partial{\\bar{y}_N}}{\\partial{W_y}}$$\n",
    "\n",
    "**Gradient Calculations to adjust State Weight Matrix $W_s$**:\n",
    "\n",
    "to find the final gradient calculation, we **accumulate** the contributions from **all states**: $\\bar{s}_t, \\bar{s}_{t-1}, ..., \\bar{s}_{t-N}$:\n",
    "\n",
    "![](images/rnn-BPTT_Ws.svg)\n",
    "\n",
    "$$\\frac{\\partial{E_N}}{\\partial{W_s}} = \\sum_{i=1}^{N} \\frac{\\partial{E_N}}{\\partial{\\bar{y}_N}} \\cdot \\frac{\\partial{\\bar{y}_N}}{\\partial{\\bar{s}_i}} \\cdot \\frac{\\partial{\\bar{s}_i}}{\\partial{W_s}}$$\n",
    "\n",
    "**Gradient Calculations to adjust Input Weight Matrix $W_x$**:\n",
    "\n",
    "to find the final gradient calculation, we **accumulate** the contributions from **all inputs**: $\\bar{x}_t, \\bar{x}_{t-1}, ..., \\bar{x}_{t-N}$:\n",
    "\n",
    "![](images/rnn-BPTT_Wx.svg)\n",
    "\n",
    "$$\\frac{\\partial{E_N}}{\\partial{W_x}} = \\sum_{i=1}^{N} \\frac{\\partial{E_N}}{\\partial{\\bar{y}_N}} \\cdot \\frac{\\partial{\\bar{y}_N}}{\\partial{\\bar{s}_i}} \\cdot \\frac{\\partial{\\bar{s}_i}}{\\partial{W_x}}$$"
   ]
  },
  {
   "cell_type": "markdown",
   "metadata": {},
   "source": [
    "### Example torch.nn.RNN"
   ]
  },
  {
   "cell_type": "code",
   "execution_count": null,
   "metadata": {},
   "outputs": [],
   "source": [
    "import torch\n",
    "import torch.nn as nn\n",
    "\n",
    "class RNN(nn.Module):\n",
    "    def __init__(self, input_size, hidden_size, num_layers):\n",
    "        super().__init__()\n",
    "        self.hidden_size = hidden_size\n",
    "        self.rnn = nn.RNN(input_size, hidden_size, num_layers, batch_first=True)\n",
    "        self.output = nn.Linear(hidden_size, 1) \n",
    "        \n",
    "    def forward(self, x, hidden):\n",
    "        out, hidden = self.rnn(x, hidden)\n",
    "        out = out.view(-1, self.hidden_size)\n",
    "        out = self.output(out)\n",
    "        return out, hidden"
   ]
  },
  {
   "cell_type": "code",
   "execution_count": null,
   "metadata": {},
   "outputs": [],
   "source": [
    "model = RNN()\n",
    "criterion = nn.CrossEntropyLoss()\n",
    "optimizer = torch.optim.Adam(model.parameters(), lr=0.05)\n",
    "\n",
    "epochs = 1\n",
    "for epoch in range(1, epoch + 1):\n",
    "    hidden = None\n",
    "    for inputs, targets in batches:\n",
    "        "
   ]
  },
  {
   "cell_type": "code",
   "execution_count": null,
   "metadata": {},
   "outputs": [],
   "source": []
  },
  {
   "cell_type": "code",
   "execution_count": null,
   "metadata": {},
   "outputs": [],
   "source": []
  },
  {
   "cell_type": "code",
   "execution_count": null,
   "metadata": {},
   "outputs": [],
   "source": []
  },
  {
   "cell_type": "code",
   "execution_count": null,
   "metadata": {},
   "outputs": [],
   "source": []
  },
  {
   "cell_type": "markdown",
   "metadata": {},
   "source": [
    "### Example using torch.nn.RNN\n",
    "\n",
    "As an example we have a **sequence** of **Input Size = 1** (Since only one dimension)\n",
    "```\n",
    "[1, 2, 3, 4, 5, 6, 7, 8, 9, 10, 11, 12, 13, 14, 15, 16, 17, 18, 19, 20]\n",
    "```\n",
    "\n",
    "We divide it into **4 batches** of **sequence length = 5**:\n",
    "\n",
    "```\n",
    "[[1, 2, 3, 4, 5],\n",
    " [6, 7, 8, 9, 10],\n",
    " [11, 12, 13, 14, 15],\n",
    " [16, 17, 18, 19, 20]]\n",
    "```\n",
    "\n",
    "Our aim is to looking at 5 (`seq_len`) previous value to **predict the next 2 values**."
   ]
  },
  {
   "cell_type": "code",
   "execution_count": null,
   "metadata": {},
   "outputs": [],
   "source": []
  },
  {
   "cell_type": "code",
   "execution_count": null,
   "metadata": {},
   "outputs": [],
   "source": [
    "import numpy as np\n",
    "\n",
    "import torch\n",
    "import torch.nn as nn\n",
    "import torch.optim as optim\n",
    "from torch.utils.data import Dataset, DataLoader"
   ]
  },
  {
   "cell_type": "code",
   "execution_count": null,
   "metadata": {},
   "outputs": [],
   "source": [
    "data = torch.Tensor([1, 2, 3, 4, 5, 6, 7, 8, 9, 10, 11, 12, 13, 14, 15, 16, 17, 18, 19, 20])\n",
    "\n",
    "# input size : (batch, seq_len, input_size)\n",
    "inputs = data.view(4, 5, 1)\n",
    "\n",
    "# initialize the RNN\n",
    "rnn = nn.RNN(input_size=1, hidden_size=2, num_layers=1, batch_first=True)\n",
    "\n",
    "# out shape = (batch, seq_len, hidden_size)\n",
    "# h_n shape  = (num_layers, batch, hidden_size)\n",
    "out, h_n = rnn(inputs)"
   ]
  },
  {
   "cell_type": "code",
   "execution_count": null,
   "metadata": {},
   "outputs": [],
   "source": [
    "inputs.shape"
   ]
  },
  {
   "cell_type": "code",
   "execution_count": null,
   "metadata": {},
   "outputs": [],
   "source": [
    "out.shape"
   ]
  },
  {
   "cell_type": "code",
   "execution_count": null,
   "metadata": {},
   "outputs": [],
   "source": [
    "h_n.shape"
   ]
  },
  {
   "cell_type": "code",
   "execution_count": null,
   "metadata": {},
   "outputs": [],
   "source": [
    "class SimpleRNN(nn.Module):\n",
    "    def __init__(self):\n",
    "        super(SimpleRNN, self).__init__()\n",
    "        \n",
    "        self.hidden_dim=hidden_dim\n",
    "\n",
    "        # define an RNN with specified parameters\n",
    "        # batch_first means that the first dim of the input and output will be the batch_size\n",
    "        self.rnn = nn.RNN(input_size, hidden_dim, n_layers, batch_first=True)\n",
    "        \n",
    "        # last, fully-connected layer\n",
    "        self.fc = nn.Linear(hidden_dim, output_size)\n",
    "\n",
    "    def forward(self, x, hidden):\n",
    "        # x (batch_size, seq_length, input_size)\n",
    "        # hidden (n_layers, batch_size, hidden_dim)\n",
    "        # r_out (batch_size, time_step, hidden_size)\n",
    "        batch_size = x.size(0)\n",
    "        \n",
    "        # get RNN outputs\n",
    "        r_out, hidden = self.rnn(x, hidden)\n",
    "        # shape output to be (batch_size*seq_length, hidden_dim)\n",
    "        r_out = r_out.view(-1, self.hidden_dim)  \n",
    "        \n",
    "        # get final output \n",
    "        output = self.fc(r_out)\n",
    "        \n",
    "        return output, hidden\n"
   ]
  },
  {
   "cell_type": "code",
   "execution_count": null,
   "metadata": {},
   "outputs": [],
   "source": [
    "# decide on hyperparameters\n",
    "input_size=1 \n",
    "output_size=1\n",
    "hidden_dim=32\n",
    "n_layers=1\n",
    "\n",
    "# instantiate an RNN\n",
    "rnn = SimpleRNN(input_size, output_size, hidden_dim, n_layers)\n",
    "print(rnn)"
   ]
  }
 ],
 "metadata": {
  "kernelspec": {
   "display_name": "Python 3",
   "language": "python",
   "name": "python3"
  },
  "language_info": {
   "codemirror_mode": {
    "name": "ipython",
    "version": 3
   },
   "file_extension": ".py",
   "mimetype": "text/x-python",
   "name": "python",
   "nbconvert_exporter": "python",
   "pygments_lexer": "ipython3",
   "version": "3.7.7"
  }
 },
 "nbformat": 4,
 "nbformat_minor": 4
}
