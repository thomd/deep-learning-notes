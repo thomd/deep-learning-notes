{
 "cells": [
  {
   "cell_type": "markdown",
   "metadata": {},
   "source": [
    "# Recurrent Neural Networks\n",
    "\n",
    "**RNN** have a key flaw, as capturing relationships that span more than 8 or 10 steps back is practically impossible. This flaw stems from the **vanishing gradient** or **exploding gradient** problem in which the contribution of information decays geometrically over time.\n",
    "\n",
    "**LSTM** is one option to overcome the Vanishing Gradient problem in RNNs."
   ]
  },
  {
   "cell_type": "markdown",
   "metadata": {},
   "source": [
    "### RNN vs. FFNN\n",
    "\n",
    "There are two main differences between FFNNs and RNNs. The Recurrent Neural Network uses:\n",
    "\n",
    "1. **sequences** as inputs in the training phase, and\n",
    "2. **memory** elements\n",
    "\n",
    "Memory is defined as the output of hidden layer neurons, which will serve as additional input to the network during next training step."
   ]
  },
  {
   "cell_type": "markdown",
   "metadata": {},
   "source": [
    "### Simple RNN (aka Elman Network)\n",
    "\n",
    "In RNNs, our output at time $t$, depends not only on the current input and the weight, but also on previous inputs. In this case the output at time $t$ will be defined as:\n",
    "\n",
    "$$\\bar{y}_t = F(\\bar{x}_t, \\bar{x}_{t-1}, \\ldots, \\bar{x}_{t-t_0}, W)$$\n",
    "\n",
    "![](images/rnn.svg)\n",
    "\n",
    "with the **input vector** $\\bar{x}$, the **output vector** $\\bar{y}$ and the **state vector** $\\bar{s}$.\n",
    "\n",
    "$W_x$ is the weight matrix connecting the inputs to the **state layer**, $W_y$ is the weight matrix connecting the state layer to the output layer and $W_s$ represents the weight matrix connecting the state from the previous timestep to the state in the current timestep.\n",
    "\n",
    "In **FFNNs** the hidden layer depended only on the current inputs and weights, as well as on an **activation function** $\\Phi$:\n",
    "\n",
    "$$\\bar{h} = \\Phi(\\bar{x} W)$$\n",
    "\n",
    "In **RNNs** the state layer depended on the current inputs, their corresponding weights, the activation function and **also on the previous state**:\n",
    "\n",
    "$$\\bar{h} = \\bar{s}_t = \\Phi(\\bar{x}_t W_x + \\bar{s}_{t-1} W_s)$$\n",
    "\n",
    "The output vector is calculated exactly the same as in FFNNs. It can be a linear combination of the inputs to each output node with the corresponding weight matrix $W_y$ or a **softmax function** $\\sigma$ of the same linear combination:\n",
    "\n",
    "$$\\bar{y}_t = \\bar{s}_t W_y \\qquad \\text{or} \\qquad \\bar{y}_t = \\sigma(\\bar{s}_t W_y)$$"
   ]
  },
  {
   "cell_type": "markdown",
   "metadata": {},
   "source": [
    "### Backpropagation Through Time (BPTT)"
   ]
  },
  {
   "cell_type": "markdown",
   "metadata": {},
   "source": [
    "For the error calculations we use a **loss function**, where $E_t$ represents the **output error** at time $t$, $\\bar{d}_t$ represents the **desired output** at time $t$ and $\\bar{y}_t$ represents the calculated **output** at time $t$:\n",
    "\n",
    "$$E_t = (\\bar{d}_t - \\bar{y}_t)^2$$\n",
    "\n",
    "\n"
   ]
  },
  {
   "cell_type": "markdown",
   "metadata": {},
   "source": [
    "Supposed we calculate the output with $\\bar{y}_t = \\bar{s}_t W_y$ and calculate the gradients at time $t = N$.\n",
    "\n",
    "**Gradient Calculations to adjust Output Weight Matrix $W_y$**:\n",
    "\n",
    "![](images/rnn-BPTT_Wy.svg)\n",
    "\n",
    "$$\\frac{\\partial{E_N}}{\\partial{W_y}} = \\frac{\\partial{E_N}}{\\partial{\\bar{y}_N}} \\cdot \\frac{\\partial{\\bar{y}_N}}{\\partial{W_y}}$$\n",
    "\n",
    "**Gradient Calculations to adjust State Weight Matrix $W_s$**:\n",
    "\n",
    "to find the final gradient calculation, we **accumulate** the contributions from **all states**: $\\bar{s}_t, \\bar{s}_{t-1}, ..., \\bar{s}_{t-N}$:\n",
    "\n",
    "![](images/rnn-BPTT_Ws.svg)\n",
    "\n",
    "$$\\frac{\\partial{E_N}}{\\partial{W_s}} = \\sum_{i=1}^{N} \\frac{\\partial{E_N}}{\\partial{\\bar{y}_N}} \\cdot \\frac{\\partial{\\bar{y}_N}}{\\partial{\\bar{s}_i}} \\cdot \\frac{\\partial{\\bar{s}_i}}{\\partial{W_s}}$$\n",
    "\n",
    "**Gradient Calculations to adjust Input Weight Matrix $W_x$**:\n",
    "\n",
    "to find the final gradient calculation, we **accumulate** the contributions from **all inputs**: $\\bar{x}_t, \\bar{x}_{t-1}, ..., \\bar{x}_{t-N}$:\n",
    "\n",
    "![](images/rnn-BPTT_Wx.svg)\n",
    "\n",
    "$$\\frac{\\partial{E_N}}{\\partial{W_x}} = \\sum_{i=1}^{N} \\frac{\\partial{E_N}}{\\partial{\\bar{y}_N}} \\cdot \\frac{\\partial{\\bar{y}_N}}{\\partial{\\bar{s}_i}} \\cdot \\frac{\\partial{\\bar{s}_i}}{\\partial{W_x}}$$"
   ]
  },
  {
   "cell_type": "markdown",
   "metadata": {},
   "source": [
    "# Example using nn.RNN"
   ]
  },
  {
   "cell_type": "code",
   "execution_count": 1,
   "metadata": {},
   "outputs": [],
   "source": [
    "import numpy as np\n",
    "\n",
    "import torch\n",
    "import torch.nn as nn\n",
    "import torch.optim as optim\n",
    "from torch.utils.data import Dataset, DataLoader"
   ]
  },
  {
   "cell_type": "code",
   "execution_count": 2,
   "metadata": {},
   "outputs": [
    {
     "name": "stdout",
     "output_type": "stream",
     "text": [
      "Data:  torch.Size([20]) \n",
      "\n",
      " tensor([ 1.,  2.,  3.,  4.,  5.,  6.,  7.,  8.,  9., 10., 11., 12., 13., 14.,\n",
      "        15., 16., 17., 18., 19., 20.])\n"
     ]
    }
   ],
   "source": [
    "data = torch.Tensor([1, 2, 3, 4, 5, 6, 7, 8, 9, 10, 11, 12, 13, 14, 15, 16, 17, 18, 19, 20])\n",
    "print(\"Data: \", data.shape, \"\\n\\n\", data)"
   ]
  },
  {
   "cell_type": "code",
   "execution_count": 4,
   "metadata": {},
   "outputs": [],
   "source": [
    "# Number of features used as input. (Number of columns)\n",
    "INPUT_SIZE = 1\n",
    "\n",
    "# Number of previous time stamps taken into account.\n",
    "SEQ_LENGTH = 5\n",
    "\n",
    "# Number of features in last hidden state ie. number of output time-\n",
    "# steps to predict.See image below for more clarity.\n",
    "HIDDEN_SIZE = 2\n",
    "\n",
    "# Number of stacked rnn layers.\n",
    "NUM_LAYERS = 1\n",
    "\n",
    "# We have total of 20 rows in our input. \n",
    "# We divide the input into 4 batches where each batch has only 1\n",
    "# row. Each row corresponds to a sequence of length 5. \n",
    "BATCH_SIZE = 4"
   ]
  },
  {
   "cell_type": "code",
   "execution_count": null,
   "metadata": {},
   "outputs": [],
   "source": []
  }
 ],
 "metadata": {
  "kernelspec": {
   "display_name": "Python 3",
   "language": "python",
   "name": "python3"
  },
  "language_info": {
   "codemirror_mode": {
    "name": "ipython",
    "version": 3
   },
   "file_extension": ".py",
   "mimetype": "text/x-python",
   "name": "python",
   "nbconvert_exporter": "python",
   "pygments_lexer": "ipython3",
   "version": "3.7.7"
  }
 },
 "nbformat": 4,
 "nbformat_minor": 4
}
