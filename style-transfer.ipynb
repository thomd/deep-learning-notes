{
 "cells": [
  {
   "cell_type": "markdown",
   "metadata": {},
   "source": [
    "# Gram Matrix"
   ]
  },
  {
   "cell_type": "markdown",
   "metadata": {},
   "source": [
    "The **Gram matrix** $G$ of a set of vectors $a_1, \\dots ,a_n$ is the Hermitian matrix of inner products, whose entries $g_{ij}$ are given by\n",
    "\n",
    "$$g_{ij} = a_i \\cdot a_j$$\n",
    "\n",
    "if vectors $a_1, \\dots ,a_n$ are **columns** of a **matrix** $A$, then\n",
    "\n",
    "$$G = A^\\top \\cdot A$$\n",
    "\n",
    "A Gram matrix is **Positive Definite** and **Symmetric**"
   ]
  },
  {
   "cell_type": "markdown",
   "metadata": {},
   "source": [
    "### Example\n",
    "\n",
    "Let \n",
    "\n",
    "$$a_1 = \\begin{pmatrix}1\\\\2\\\\3\\\\\\end{pmatrix} \\; \\text{and} \\;\\; a_2 = \\begin{pmatrix}2\\\\3\\\\4\\\\\\end{pmatrix}$$\n",
    "\n",
    "then the Gram Matrix calculates as\n",
    "\n",
    "$$G = \\begin{pmatrix}a_1 \\cdot a_1 & a_1 \\cdot a_2\\\\a_2 \\cdot a_1 & a_2 \\cdot a_2\\end{pmatrix} = \\begin{pmatrix}14 & 20\\\\20 & 29\\end{pmatrix}$$"
   ]
  },
  {
   "cell_type": "code",
   "execution_count": 2,
   "metadata": {},
   "outputs": [
    {
     "data": {
      "text/plain": [
       "array([[14, 20],\n",
       "       [20, 29]])"
      ]
     },
     "execution_count": 2,
     "metadata": {},
     "output_type": "execute_result"
    }
   ],
   "source": [
    "import numpy as np\n",
    "a1 = np.array([1,2,3])\n",
    "a2 = np.array([2,3,4])\n",
    "\n",
    "A = np.column_stack((a1, a2))\n",
    "\n",
    "G = np.matmul(A.T, A)\n",
    "G"
   ]
  },
  {
   "cell_type": "code",
   "execution_count": null,
   "metadata": {},
   "outputs": [],
   "source": []
  }
 ],
 "metadata": {
  "kernelspec": {
   "display_name": "Python 3",
   "language": "python",
   "name": "python3"
  },
  "language_info": {
   "codemirror_mode": {
    "name": "ipython",
    "version": 3
   },
   "file_extension": ".py",
   "mimetype": "text/x-python",
   "name": "python",
   "nbconvert_exporter": "python",
   "pygments_lexer": "ipython3",
   "version": "3.7.7"
  }
 },
 "nbformat": 4,
 "nbformat_minor": 4
}
