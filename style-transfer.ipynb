{
 "cells": [
  {
   "cell_type": "markdown",
   "metadata": {},
   "source": [
    "# Style Transfer\n",
    "\n",
    "based on the paper [A Neural Algorithm of Artistic Style](https://arxiv.org/pdf/1508.06576.pdf)\n",
    "\n",
    "\n",
    "The solution is this:\n",
    "\n",
    "1. Create a random input image\n",
    "2. Pass the input through a pretrained backbone architecture (for example VGG, ResNet). This backbone will not be trained during backpropagation.\n",
    "3. Calculate loss and compute the gradients **w.r.t input image pixels**. Hence only the input pixels are adjusted whereas the weights remain constant.\n",
    "\n",
    "The objective is to change the input image so that it represents the content and the style from the respective images.\n",
    "\n",
    "This problem consists of **two sub problems**: \n",
    "\n",
    "1. to generate the content and \n",
    "2. to generate the style.\n",
    "\n",
    "TODO: [Neural Networks Intuitions: 2. Dot product, Gram Matrix and Neural Style Transfer](https://towardsdatascience.com/neural-networks-intuitions-2-dot-product-gram-matrix-and-neural-style-transfer-5d39653e7916)\n",
    "\n",
    "TODO: [What exactly is Style?](https://medium.com/datadriveninvestor/style-in-computer-vision-neural-style-transfer-c44da727f1c4)"
   ]
  },
  {
   "cell_type": "markdown",
   "metadata": {},
   "source": [
    "# Gram Matrix"
   ]
  },
  {
   "cell_type": "markdown",
   "metadata": {},
   "source": [
    "The **Gram matrix** $G$ of a set of vectors $a_1, \\dots ,a_n$ is the Hermitian matrix of **inner products** (or **dot products**), whose entries $g_{ij}$ are given by\n",
    "\n",
    "$$g_{ij} = a_i \\cdot a_j$$\n",
    "\n",
    "if vectors $a_1, \\dots ,a_n$ are **columns** of a **matrix** $A$, then\n",
    "\n",
    "$$G = A^\\top \\cdot A$$\n",
    "\n",
    "A Gram matrix is **Positive Definite** and **Symmetric**"
   ]
  },
  {
   "cell_type": "markdown",
   "metadata": {},
   "source": [
    "### Intuition\n",
    "\n",
    "The dot product $a \\cdot b = \\vert a \\vert \\vert b \\vert \\cos(\\theta)$ can be seen as **how similar two vectors actually are**."
   ]
  },
  {
   "cell_type": "markdown",
   "metadata": {},
   "source": [
    "### Example\n",
    "\n",
    "Let \n",
    "\n",
    "$$a_1 = \\begin{pmatrix}1\\\\2\\\\3\\\\\\end{pmatrix} \\; \\text{and} \\;\\; a_2 = \\begin{pmatrix}2\\\\3\\\\4\\\\\\end{pmatrix}$$\n",
    "\n",
    "then the Gram Matrix calculates as\n",
    "\n",
    "$$G(a_1, a_2) = \\begin{pmatrix}a_1 \\cdot a_1 & a_1 \\cdot a_2\\\\a_2 \\cdot a_1 & a_2 \\cdot a_2\\end{pmatrix} = \\begin{pmatrix}14 & 20\\\\20 & 29\\end{pmatrix}$$"
   ]
  },
  {
   "cell_type": "code",
   "execution_count": 3,
   "metadata": {},
   "outputs": [
    {
     "data": {
      "text/plain": [
       "array([[14, 20],\n",
       "       [20, 29]])"
      ]
     },
     "execution_count": 3,
     "metadata": {},
     "output_type": "execute_result"
    }
   ],
   "source": [
    "import numpy as np\n",
    "a1 = np.array([1,2,3])\n",
    "a2 = np.array([2,3,4])\n",
    "\n",
    "A = np.column_stack((a1, a2))\n",
    "\n",
    "G = np.matmul(A.T, A)\n",
    "G"
   ]
  },
  {
   "cell_type": "code",
   "execution_count": null,
   "metadata": {},
   "outputs": [],
   "source": []
  },
  {
   "cell_type": "markdown",
   "metadata": {},
   "source": [
    "see also [Gram Matrix used in Style Transfer](https://www.youtube.com/watch?v=DEK-W5cxG-g)"
   ]
  },
  {
   "cell_type": "markdown",
   "metadata": {},
   "source": [
    "# Implementation with PyTorch\n",
    "\n",
    "TODO: [PyTorch implementation of the paper \"A Neural Algorithm of Artistic Style by Gatys et. al\".](https://github.com/mailcorahul/deep_learning/tree/master/papers/neural_style_transfer)"
   ]
  },
  {
   "cell_type": "code",
   "execution_count": null,
   "metadata": {},
   "outputs": [],
   "source": []
  }
 ],
 "metadata": {
  "kernelspec": {
   "display_name": "Python 3",
   "language": "python",
   "name": "python3"
  },
  "language_info": {
   "codemirror_mode": {
    "name": "ipython",
    "version": 3
   },
   "file_extension": ".py",
   "mimetype": "text/x-python",
   "name": "python",
   "nbconvert_exporter": "python",
   "pygments_lexer": "ipython3",
   "version": "3.7.7"
  }
 },
 "nbformat": 4,
 "nbformat_minor": 4
}
