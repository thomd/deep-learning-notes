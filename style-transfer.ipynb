{
 "cells": [
  {
   "cell_type": "markdown",
   "metadata": {},
   "source": [
    "# Style Transfer\n",
    "\n",
    "based on the paper [A Neural Algorithm of Artistic Style](https://arxiv.org/pdf/1508.06576.pdf)\n",
    "\n",
    "\n",
    "The solution is this:\n",
    "\n",
    "1. Create a random input image\n",
    "2. Pass the input through a pretrained backbone architecture (for example VGG, ResNet). This backbone will not be trained during backpropagation.\n",
    "3. Calculate loss and compute the gradients **w.r.t input image pixels**. Hence only the input pixels are adjusted whereas the weights remain constant.\n",
    "\n",
    "The objective is to change the input image so that it represents the content and the style from the respective images.\n",
    "\n",
    "This problem consists of **two sub problems**: \n",
    "\n",
    "1. to generate the content and \n",
    "2. to generate the style.\n",
    "\n",
    "TODO: [Neural Networks Intuitions: 2. Dot product, Gram Matrix and Neural Style Transfer](https://towardsdatascience.com/neural-networks-intuitions-2-dot-product-gram-matrix-and-neural-style-transfer-5d39653e7916)\n",
    "\n",
    "TODO: [What exactly is Style?](https://medium.com/datadriveninvestor/style-in-computer-vision-neural-style-transfer-c44da727f1c4)\n",
    "\n",
    "TODO: [Neural Style Transfer Tutorial -Part 1](https://towardsdatascience.com/neural-style-transfer-tutorial-part-1-f5cd3315fa7f)"
   ]
  },
  {
   "cell_type": "markdown",
   "metadata": {},
   "source": [
    "# Implementation with PyTorch\n",
    "\n",
    "TODO: [PyTorch implementation of the paper \"A Neural Algorithm of Artistic Style by Gatys et. al\".](https://github.com/mailcorahul/deep_learning/tree/master/papers/neural_style_transfer)"
   ]
  },
  {
   "cell_type": "code",
   "execution_count": null,
   "metadata": {},
   "outputs": [],
   "source": []
  }
 ],
 "metadata": {
  "kernelspec": {
   "display_name": "Python 3",
   "language": "python",
   "name": "python3"
  },
  "language_info": {
   "codemirror_mode": {
    "name": "ipython",
    "version": 3
   },
   "file_extension": ".py",
   "mimetype": "text/x-python",
   "name": "python",
   "nbconvert_exporter": "python",
   "pygments_lexer": "ipython3",
   "version": "3.7.7"
  }
 },
 "nbformat": 4,
 "nbformat_minor": 4
}
